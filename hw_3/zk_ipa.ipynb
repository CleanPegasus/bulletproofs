{
 "cells": [
  {
   "cell_type": "code",
   "execution_count": 99,
   "metadata": {},
   "outputs": [],
   "source": [
    "import galois\n",
    "import sys\n",
    "from py_ecc.bls12_381 import G1, G2, G12, add, multiply, curve_order, pairing, eq, neg, Z1\n",
    "import random\n",
    "sys.path.append('../hw_1')\n",
    "from pedersen_commitment import generate_n_random_points, pedersen_commitment"
   ]
  },
  {
   "cell_type": "code",
   "execution_count": 100,
   "metadata": {},
   "outputs": [],
   "source": [
    "GF = galois.GF(curve_order)"
   ]
  },
  {
   "cell_type": "code",
   "execution_count": 101,
   "metadata": {},
   "outputs": [],
   "source": [
    "G = generate_n_random_points(\"goblin-plonk\", 1)[0]\n",
    "G_vec = generate_n_random_points(\"afkjhweiuljbfwea\", 3)\n",
    "H = generate_n_random_points(\"goblin\", 1)[0]\n",
    "H_vec = generate_n_random_points(\"cwea\", 3)\n",
    "B = generate_n_random_points(\"whatsup\", 1)[0]"
   ]
  },
  {
   "cell_type": "code",
   "execution_count": null,
   "metadata": {},
   "outputs": [],
   "source": [
    "class VectorPolynomial:\n",
    "    def __init__(self, coefficients):\n",
    "        if coefficients:\n",
    "            dim = len(coefficients[0])\n",
    "            if not all(len(v) == dim for v in coefficients):\n",
    "                raise ValueError(\"All coefficient vectors must have the same dimension\")\n",
    "        \n",
    "        self.coefficients = coefficients\n",
    "        self.degree = len(coefficients) - 1 if coefficients else -1\n",
    "        \n",
    "    def evaluate(self, x):\n",
    "        if not self.coefficients:\n",
    "            return []\n",
    "            \n",
    "        result = [GF(0)] * len(self.coefficients[0])\n",
    "        x_power = 1\n",
    "        \n",
    "        for coeff_vector in self.coefficients:\n",
    "            term = [x_power * c for c in coeff_vector]\n",
    "            result = [r + t for r, t in zip(result, term)]\n",
    "            x_power *= x\n",
    "            \n",
    "        return result\n",
    "    \n",
    "    def __str__(self):\n",
    "        if not self.coefficients:\n",
    "            return \"0\"\n",
    "            \n",
    "        terms = []\n",
    "        for power, vector in enumerate(self.coefficients):\n",
    "            if power == 0:\n",
    "                terms.append(f\"{vector}\")\n",
    "            elif power == 1:\n",
    "                terms.append(f\"{vector}x\")\n",
    "            else:\n",
    "                terms.append(f\"{vector}x^{power}\")\n",
    "                \n",
    "        return \" + \".join(terms)\n"
   ]
  },
  {
   "cell_type": "code",
   "execution_count": 103,
   "metadata": {},
   "outputs": [],
   "source": [
    "def calculate_inner_product(a, b):\n",
    "  if len(a) != len(b):\n",
    "    raise ValueError(\"Lists must be of the same length\")\n",
    "  result = GF(0)\n",
    "  for index, val in enumerate(a):\n",
    "    result += val * b[index]\n",
    "  return result"
   ]
  },
  {
   "cell_type": "code",
   "execution_count": 104,
   "metadata": {},
   "outputs": [],
   "source": [
    "def calculate_inner_product_with_ec(a, G):\n",
    "  result = Z1\n",
    "  for index, val in enumerate(a):\n",
    "    result = add(result, multiply(G[index], int(val)))\n",
    "  \n",
    "  return result"
   ]
  },
  {
   "cell_type": "code",
   "execution_count": null,
   "metadata": {},
   "outputs": [],
   "source": [
    "def generate_inner_product_commitment(a, b):\n",
    "  v = calculate_inner_product(a, b)\n",
    "  s_l = [GF(random.randint(1, 1000)) for _ in range(len(a))]\n",
    "  s_r = [GF(random.randint(1, 1000)) for _ in range(len(b))]\n",
    "\n",
    "  l = VectorPolynomial([a, s_l])\n",
    "  r = VectorPolynomial([b, s_r])\n",
    "\n",
    "  t_coeffs = [calculate_inner_product(s_r, s_l), calculate_inner_product(a, s_r) + calculate_inner_product(b, s_l), v]\n",
    "  t = galois.Poly(t_coeffs, GF)\n",
    "  alpha = GF(random.randint(0, 10000))\n",
    "\n",
    "  A = add(add(calculate_inner_product_with_ec(a, G_vec), calculate_inner_product_with_ec(b, H_vec)), multiply(B, int(alpha)))\n",
    "\n",
    "  beta = GF(random.randint(1, 10000))\n",
    "  S = add(add(calculate_inner_product_with_ec(s_l, G_vec), calculate_inner_product_with_ec(s_r, H_vec)), multiply(B, int(beta)))\n",
    "\n",
    "  gamma = GF(random.randint(0, 10000))\n",
    "  V = add(multiply(G, int(v)), multiply(B, int(gamma)))\n",
    "\n",
    "  tau_1 = GF(random.randint(1, 1000000))\n",
    "  t_1_scalar = calculate_inner_product(a, s_r) + calculate_inner_product(b, s_l)\n",
    "  T_1 = add(multiply(G, int(t_1_scalar)), multiply(B, int(tau_1)))\n",
    "  \n",
    "  tau_2 = GF(random.randint(0, 100000))\n",
    "  T_2 = add(multiply(G, int(calculate_inner_product(s_l, s_r))), multiply(B, int(tau_2)))\n",
    "\n",
    "  return [(A, S, V, T_1, T_2), (l, r, t), (alpha, beta, gamma, tau_1, tau_2)]\n",
    "  \n"
   ]
  },
  {
   "cell_type": "code",
   "execution_count": 106,
   "metadata": {},
   "outputs": [
    {
     "name": "stdout",
     "output_type": "stream",
     "text": [
      "3710\n"
     ]
    }
   ],
   "source": [
    "a = [GF(20), GF(14), GF(40)]\n",
    "b = [GF(34), GF(45), GF(60)]\n",
    "[(A, S, V, T_1, T_2), (l, r, t), (alpha, beta, gamma, tau_1, tau_2)] = generate_inner_product_commitment(a, b)\n",
    "u = GF(random.randint(1, 10000))\n",
    "\n"
   ]
  },
  {
   "cell_type": "code",
   "execution_count": 107,
   "metadata": {},
   "outputs": [],
   "source": [
    "def generate_inner_product_proof(u):\n",
    "  l_u = l.evaluate(u)\n",
    "  r_u = r.evaluate(u)\n",
    "  t_u = t(u)\n",
    "\n",
    "  pi_lr = alpha + beta * u\n",
    "  pi_t = gamma + tau_1 * u + tau_2 * u * u\n",
    "\n",
    "  return (l_u, r_u, t_u, pi_lr, pi_t)"
   ]
  },
  {
   "cell_type": "code",
   "execution_count": 108,
   "metadata": {},
   "outputs": [],
   "source": [
    "(l_u, r_u, t_u, pi_lr, pi_t) = generate_inner_product_proof(u)"
   ]
  },
  {
   "cell_type": "code",
   "execution_count": 111,
   "metadata": {},
   "outputs": [],
   "source": [
    "def verify_proof(commitments, proofs, u):\n",
    "\t(A, S, V, T_1, T_2) = commitments\n",
    "\t(l_u, r_u, t_u, pi_lr, pi_t) = proofs\n",
    "\t\n",
    "\tif t_u != calculate_inner_product(l_u, r_u):\n",
    "\t\traise \"Invalid Proof\"\n",
    "\t\n",
    "\teqn_2_lhs = add(A, multiply(S, int(u)))\n",
    "\teqn_2_rhs = add(add(calculate_inner_product_with_ec(l_u, G_vec), calculate_inner_product_with_ec(r_u, H_vec)), multiply(B, int(pi_lr)))\n",
    "\t\n",
    "\tif eqn_2_lhs != eqn_2_rhs:\n",
    "\t\traise \"Invalid Proof\"\n",
    "\n",
    "\teqn_3_lhs = add(multiply(G, int(t_u)), multiply(B, int(pi_t)))\n",
    "\teqn_3_rhs = add(V, add(multiply(T_1, int(u)), multiply(T_2, int(u * u))))\n",
    "\n",
    "\tif eqn_3_lhs != eqn_3_rhs:\n",
    "\t\traise \"Invalid Proof\"\n",
    "\t\n",
    "\treturn True\n",
    "\n",
    "\n"
   ]
  },
  {
   "cell_type": "code",
   "execution_count": 112,
   "metadata": {},
   "outputs": [
    {
     "name": "stdout",
     "output_type": "stream",
     "text": [
      "True\n"
     ]
    }
   ],
   "source": [
    "isVerified = verify_proof((A, S, V, T_1, T_2), (l_u, r_u, t_u, pi_lr, pi_t), u )\n",
    "\n",
    "print(isVerified)"
   ]
  },
  {
   "cell_type": "code",
   "execution_count": null,
   "metadata": {},
   "outputs": [],
   "source": []
  }
 ],
 "metadata": {
  "kernelspec": {
   "display_name": "bulletproofs-venv",
   "language": "python",
   "name": "python3"
  },
  "language_info": {
   "codemirror_mode": {
    "name": "ipython",
    "version": 3
   },
   "file_extension": ".py",
   "mimetype": "text/x-python",
   "name": "python",
   "nbconvert_exporter": "python",
   "pygments_lexer": "ipython3",
   "version": "3.12.6"
  }
 },
 "nbformat": 4,
 "nbformat_minor": 2
}
