{
 "cells": [
  {
   "cell_type": "code",
   "execution_count": 1,
   "metadata": {},
   "outputs": [],
   "source": [
    "import galois\n",
    "import sys\n",
    "from py_ecc.bls12_381 import G1, G2, G12, add, multiply, curve_order, pairing, eq, neg, Z1\n",
    "import random\n",
    "sys.path.append('../hw_1')\n",
    "from pedersen_commitment import generate_n_random_points, pedersen_commitment"
   ]
  },
  {
   "cell_type": "code",
   "execution_count": 2,
   "metadata": {},
   "outputs": [],
   "source": [
    "GF = galois.GF(curve_order)"
   ]
  },
  {
   "cell_type": "code",
   "execution_count": 3,
   "metadata": {},
   "outputs": [],
   "source": [
    "def generate_random_field_element():\n",
    "  return GF(random.randint(0, 100))"
   ]
  },
  {
   "cell_type": "code",
   "execution_count": 4,
   "metadata": {},
   "outputs": [],
   "source": [
    "l_x = galois.Poly([generate_random_field_element(), generate_random_field_element()], GF)\n",
    "r_x = galois.Poly([generate_random_field_element(), generate_random_field_element()], GF)"
   ]
  },
  {
   "cell_type": "code",
   "execution_count": 5,
   "metadata": {},
   "outputs": [],
   "source": [
    "t_x = l_x * r_x"
   ]
  },
  {
   "cell_type": "code",
   "execution_count": 6,
   "metadata": {},
   "outputs": [
    {
     "data": {
      "text/plain": [
       "2"
      ]
     },
     "execution_count": 6,
     "metadata": {},
     "output_type": "execute_result"
    }
   ],
   "source": [
    "l_x.coeffs.__len__()"
   ]
  },
  {
   "cell_type": "code",
   "execution_count": 7,
   "metadata": {},
   "outputs": [],
   "source": [
    "ec_points = generate_n_random_points(\"hello world\", t_x.coeffs.__len__() + 1)\n",
    "blinding_ec_point = generate_n_random_points(\"blinding ec point\", 1)\n",
    "\n",
    "# Blinding coeffs\n",
    "alpha = generate_random_field_element()\n",
    "beta = generate_random_field_element()\n",
    "tau_0 = generate_random_field_element()\n",
    "tau_1 = generate_random_field_element()\n",
    "tau_2 = generate_random_field_element()"
   ]
  },
  {
   "cell_type": "code",
   "execution_count": 33,
   "metadata": {},
   "outputs": [],
   "source": [
    "def commitment(l_x, r_x):\n",
    "  \n",
    "  A = add(add(multiply(ec_points[0], int(l_x.coeffs[1])), multiply(ec_points[1], int(r_x.coeffs[1]))), multiply(blinding_ec_point[0], int(alpha)))\n",
    "  B = add(add(multiply(ec_points[0], int(l_x.coeffs[0])), multiply(ec_points[1], int(r_x.coeffs[0]))), multiply(blinding_ec_point[0], int(beta)))\n",
    "  T_0 = add(multiply(ec_points[0], int(l_x.coeffs[1] * r_x.coeffs[1])), multiply(blinding_ec_point[0], int(tau_0)))\n",
    "  T_1 = add(multiply(ec_points[0], int(l_x.coeffs[0] * r_x.coeffs[1] + r_x.coeffs[0] * l_x.coeffs[1])), multiply(blinding_ec_point[0], int(tau_1)))\n",
    "  T_2 = add(multiply(ec_points[0], int(l_x.coeffs[0] * r_x.coeffs[0])), multiply(blinding_ec_point[0], int(tau_2)))\n",
    "\n",
    "  return (A, B, T_0, T_1, T_2)"
   ]
  },
  {
   "cell_type": "code",
   "execution_count": 35,
   "metadata": {},
   "outputs": [],
   "source": [
    "commitments = commitment(l_x, r_x)\n"
   ]
  },
  {
   "cell_type": "code",
   "execution_count": 37,
   "metadata": {},
   "outputs": [],
   "source": [
    "u = generate_random_field_element()"
   ]
  },
  {
   "cell_type": "code",
   "execution_count": 42,
   "metadata": {},
   "outputs": [],
   "source": [
    "l_u = l_x(u)\n",
    "r_u = r_x(u)\n",
    "t_u = t_x(u)\n",
    "\n",
    "pi_lr = alpha + beta * u\n",
    "pi_t = tau_0 + tau_1 * u + tau_2 * u * u"
   ]
  },
  {
   "cell_type": "code",
   "execution_count": null,
   "metadata": {},
   "outputs": [],
   "source": [
    "def verification()"
   ]
  },
  {
   "cell_type": "code",
   "execution_count": null,
   "metadata": {},
   "outputs": [],
   "source": []
  }
 ],
 "metadata": {
  "kernelspec": {
   "display_name": "bulletproofs-venv",
   "language": "python",
   "name": "python3"
  },
  "language_info": {
   "codemirror_mode": {
    "name": "ipython",
    "version": 3
   },
   "file_extension": ".py",
   "mimetype": "text/x-python",
   "name": "python",
   "nbconvert_exporter": "python",
   "pygments_lexer": "ipython3",
   "version": "3.12.6"
  }
 },
 "nbformat": 4,
 "nbformat_minor": 2
}
