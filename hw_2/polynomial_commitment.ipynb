{
 "cells": [
  {
   "cell_type": "code",
   "execution_count": 1,
   "metadata": {},
   "outputs": [],
   "source": [
    "import sys\n",
    "from py_ecc.bn128 import G1, field_modulus, FQ, curve_order, is_on_curve, multiply, add, Z1\n",
    "import hashlib\n",
    "import sympy\n",
    "sys.path.append('../hw_1')\n",
    "from pedersen_commitment import generate_n_random_points\n",
    "import random"
   ]
  },
  {
   "cell_type": "code",
   "execution_count": 2,
   "metadata": {},
   "outputs": [],
   "source": [
    "def commit(f_0, f_1, f_2, G, B):\n",
    "\tresults = []\n",
    "\tfor index, f in enumerate([f_0, f_1, f_2]):\n",
    "\t\tcoeff_commitment = add(multiply(B, gammas[index]), multiply(G, f))\n",
    "\t\tresults.append(coeff_commitment)\n",
    "\treturn results\n"
   ]
  },
  {
   "cell_type": "code",
   "execution_count": 3,
   "metadata": {},
   "outputs": [],
   "source": [
    "def evaluate(f_0, f_1, f_2, u):\n",
    "\tresult = 0\n",
    "\tfor index, f in enumerate([f_0, f_1, f_2]):\n",
    "\t\tresult += f * (u ** index)\n",
    "\treturn result"
   ]
  },
  {
   "cell_type": "code",
   "execution_count": 4,
   "metadata": {},
   "outputs": [],
   "source": [
    "def prove(gamma_0, gamma_1, gamma_2, u):\n",
    "\tproof = 0\n",
    "\tfor index, g in enumerate([gamma_0, gamma_1, gamma_2]):\n",
    "\t\tproof += g * (u ** index)\n",
    "\treturn proof"
   ]
  },
  {
   "cell_type": "code",
   "execution_count": 5,
   "metadata": {},
   "outputs": [],
   "source": [
    "def verify(C0, C1, C2, G, B, u, f_u, pi):\n",
    "\tlhs = Z1\n",
    "\tfor index, C in enumerate([C0, C1, C2]):\n",
    "\t\tlhs = add(lhs, multiply(C, u ** index))\n",
    "\trhs = add(multiply(G, f_u), multiply(B, pi))\n",
    "\treturn rhs == lhs"
   ]
  },
  {
   "cell_type": "code",
   "execution_count": 6,
   "metadata": {},
   "outputs": [
    {
     "name": "stdout",
     "output_type": "stream",
     "text": [
      "17957248182013686300642555025375348998576948698086197336439323248163029943132500303634609052506790467414034320891968763282278684071339478350528337177401368138219982582388618831597229468417022742422704794412348773827679180479057\n",
      "accept\n"
     ]
    }
   ],
   "source": [
    "f_0 = 10\n",
    "f_1 = 15\n",
    "f_2 = 20\n",
    "\n",
    "gamma_0 = 0\n",
    "gamma_1 = random.randint(1, field_modulus)\n",
    "gamma_2 = random.randint(1, field_modulus)\n",
    "\n",
    "gammas = [gamma_0, gamma_1, gamma_2]\n",
    "\n",
    "[G, B] = generate_n_random_points(seed='hello', n=2)\n",
    "\n",
    "[C0, C1, C2] = commit(f_0, f_1, f_2, G, B)\n",
    "\n",
    "u = random.randint(1, field_modulus)\n",
    "f_u = evaluate(f_0, f_1, f_2, u)\n",
    "pi = prove(gamma_0, gamma_1, gamma_2, u)\n",
    "\n",
    "print(pi)\n",
    "if verify(C0, C1, C2, G, B, u, f_u, pi):\n",
    "\tprint(\"accept\")\n",
    "else:\n",
    "\tprint(\"reject\")\n"
   ]
  },
  {
   "cell_type": "code",
   "execution_count": null,
   "metadata": {},
   "outputs": [],
   "source": []
  }
 ],
 "metadata": {
  "kernelspec": {
   "display_name": "bulletproofs-venv",
   "language": "python",
   "name": "python3"
  },
  "language_info": {
   "codemirror_mode": {
    "name": "ipython",
    "version": 3
   },
   "file_extension": ".py",
   "mimetype": "text/x-python",
   "name": "python",
   "nbconvert_exporter": "python",
   "pygments_lexer": "ipython3",
   "version": "3.12.6"
  }
 },
 "nbformat": 4,
 "nbformat_minor": 2
}
