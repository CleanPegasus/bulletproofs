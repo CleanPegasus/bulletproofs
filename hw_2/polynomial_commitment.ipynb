{
 "cells": [
  {
   "cell_type": "code",
   "execution_count": 2,
   "metadata": {},
   "outputs": [],
   "source": [
    "import sys\n",
    "from py_ecc.bn128 import G1, field_modulus, FQ, curve_order, is_on_curve, multiply, add, Z1\n",
    "import hashlib\n",
    "import sympy\n",
    "sys.path.append('../hw_1')\n",
    "from pedersen_commitment import generate_n_random_points\n",
    "import random\n"
   ]
  },
  {
   "cell_type": "code",
   "execution_count": 3,
   "metadata": {},
   "outputs": [],
   "source": [
    "def commit(f_0, f_1, f_2, G, B):\n",
    "\tresults = []\n",
    "\tfor index, f in enumerate([f_0, f_1, f_2]):\n",
    "\t\tcoeff_commitment = add(multiply(B, gammas[index]), multiply(G, f))\n",
    "\t\tresults.append(coeff_commitment)\n",
    "\treturn results\n"
   ]
  },
  {
   "cell_type": "code",
   "execution_count": 4,
   "metadata": {},
   "outputs": [],
   "source": [
    "def evaluate(f_0, f_1, f_2, u):\n",
    "\tresult = 0\n",
    "\tfor index, f in enumerate([f_0, f_1, f_2]):\n",
    "\t\tresult += f * (u ** index)\n",
    "\treturn result"
   ]
  },
  {
   "cell_type": "code",
   "execution_count": 5,
   "metadata": {},
   "outputs": [],
   "source": [
    "def prove(gamma_0, gamma_1, gamma_2, u):\n",
    "\tproof = 0\n",
    "\tfor index, g in enumerate([gamma_0, gamma_1, gamma_2]):\n",
    "\t\tproof += g * (u ** index)\n",
    "\treturn proof"
   ]
  },
  {
   "cell_type": "code",
   "execution_count": 6,
   "metadata": {},
   "outputs": [],
   "source": [
    "def verify(C0, C1, C2, G, B, u, f_u, pi):\n",
    "\tlhs = Z1\n",
    "\tfor index, C in enumerate([C0, C1, C2]):\n",
    "\t\tlhs = add(lhs, multiply(C, u ** index))\n",
    "\trhs = add(multiply(G, f_u), multiply(B, pi))\n",
    "\treturn rhs == lhs"
   ]
  },
  {
   "cell_type": "code",
   "execution_count": 7,
   "metadata": {},
   "outputs": [
    {
     "name": "stdout",
     "output_type": "stream",
     "text": [
      "37181092817230723511715168233082402457911182579452822346152552493754465537750943057297527727322809112903700434970882820166382812244779916700019332249024347208503739823358132846316626030323069934071912015363921044961116172737260\n",
      "accept\n"
     ]
    }
   ],
   "source": [
    "f_0 = 10\n",
    "f_1 = 15\n",
    "f_2 = 20\n",
    "\n",
    "gamma_0 = 0\n",
    "gamma_1 = random.randint(1, field_modulus)\n",
    "gamma_2 = random.randint(1, field_modulus)\n",
    "\n",
    "gammas = [gamma_0, gamma_1, gamma_2]\n",
    "\n",
    "[G, B] = generate_n_random_points(seed='hello', n=2)\n",
    "\n",
    "[C0, C1, C2] = commit(f_0, f_1, f_2, G, B)\n",
    "\n",
    "u = random.randint(1, field_modulus)\n",
    "f_u = evaluate(f_0, f_1, f_2, u)\n",
    "pi = prove(gamma_0, gamma_1, gamma_2, u)\n",
    "\n",
    "print(pi)\n",
    "if verify(C0, C1, C2, G, B, u, f_u, pi):\n",
    "\tprint(\"accept\")\n",
    "else:\n",
    "\tprint(\"reject\")\n"
   ]
  },
  {
   "cell_type": "code",
   "execution_count": null,
   "metadata": {},
   "outputs": [],
   "source": []
  }
 ],
 "metadata": {
  "kernelspec": {
   "display_name": "bulletproofs-venv",
   "language": "python",
   "name": "python3"
  },
  "language_info": {
   "codemirror_mode": {
    "name": "ipython",
    "version": 3
   },
   "file_extension": ".py",
   "mimetype": "text/x-python",
   "name": "python",
   "nbconvert_exporter": "python",
   "pygments_lexer": "ipython3",
   "version": "3.12.6"
  }
 },
 "nbformat": 4,
 "nbformat_minor": 2
}
