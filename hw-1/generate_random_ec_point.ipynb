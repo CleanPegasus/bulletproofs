{
 "cells": [
  {
   "cell_type": "code",
   "execution_count": 1,
   "metadata": {},
   "outputs": [],
   "source": [
    "from py_ecc.bn128 import G1, field_modulus, FQ, curve_order, is_on_curve\n",
    "import hashlib\n",
    "import sympy"
   ]
  },
  {
   "cell_type": "code",
   "execution_count": 2,
   "metadata": {},
   "outputs": [],
   "source": [
    "def generate_random_point(seed):\n",
    "    hash_object = hashlib.sha256()\n",
    "    hash_object.update(seed.encode('utf-8'))\n",
    "    seed_hash_hex = hash_object.hexdigest()\n",
    "    seed_hash = int(seed_hash_hex, 16)\n",
    "    \n",
    "    return seed_hash % field_modulus"
   ]
  },
  {
   "cell_type": "code",
   "execution_count": 3,
   "metadata": {},
   "outputs": [],
   "source": [
    "\n",
    "def is_x_on_curve(x):\n",
    "    x = FQ(x)\n",
    "    y_squared = x**3 + FQ(3)\n",
    "    return has_square_root(y_squared)\n",
    "\n",
    "def has_square_root(n):\n",
    "    # Euler's criterion\n",
    "    return n**((field_modulus - 1) // 2) == FQ(1)"
   ]
  },
  {
   "cell_type": "code",
   "execution_count": 4,
   "metadata": {},
   "outputs": [],
   "source": [
    "def find_y(x):\n",
    "    x = FQ(x)\n",
    "    y_squared = x**3 + FQ(3)\n",
    "    if not is_x_on_curve(x):\n",
    "        return None\n",
    "    y = sympy.sqrt_mod(int(y_squared), field_modulus)\n",
    "    return y"
   ]
  },
  {
   "cell_type": "code",
   "execution_count": 5,
   "metadata": {},
   "outputs": [],
   "source": [
    "def generate_valid_point(seed):\n",
    "  x = generate_random_point(seed)\n",
    "  while not is_x_on_curve(x):\n",
    "    x = x + 1 % field_modulus\n",
    "  y = find_y(x)\n",
    "  return [FQ(x), FQ(y)]"
   ]
  },
  {
   "cell_type": "code",
   "execution_count": 6,
   "metadata": {},
   "outputs": [],
   "source": [
    "def generate_next_seed(seed):\n",
    "    hash_object = hashlib.sha256()\n",
    "    hash_object.update(seed.encode('utf-8'))\n",
    "    seed_hash_hex = hash_object.hexdigest()\n",
    "    return seed_hash_hex"
   ]
  },
  {
   "cell_type": "code",
   "execution_count": 7,
   "metadata": {},
   "outputs": [],
   "source": [
    "def main(seed, n):\n",
    "  result = []\n",
    "  for i in range(n):\n",
    "    valid_point = generate_valid_point(seed)\n",
    "    seed = generate_next_seed(seed)\n",
    "    result.append(valid_point)\n",
    "\n",
    "  return result\n",
    "  "
   ]
  },
  {
   "cell_type": "code",
   "execution_count": 8,
   "metadata": {},
   "outputs": [],
   "source": [
    "valid_points = main(\"goblin-plonk\", 10)"
   ]
  },
  {
   "cell_type": "code",
   "execution_count": 9,
   "metadata": {},
   "outputs": [
    {
     "data": {
      "text/plain": [
       "[[8950369915583644481564649059682254433610088060291519250562472806808565559297,\n",
       "  6122052738887547744138031347885771975777106325414036234026842612700849843739],\n",
       " [16383251615145308214864606951145589270395114210357243545675295433938954817055,\n",
       "  7064012679253479701594652383457550183386230673683044173278233061015267128683],\n",
       " [20690151427467228677445435780216131075620104057321241763448186051860319419051,\n",
       "  10034205143242152217923492681361055443189097859407803075319824983588097186067],\n",
       " [17865823632673910085781266582312555173763927689208434100476867381971117463778,\n",
       "  693041645335266684919207766388090545211034177077573500518821672332621177292],\n",
       " [8363111735881733598516213977341760114812703715941374394766891640593437887292,\n",
       "  1646134005334981284926798988324474650222996228357283488771061440855372402597],\n",
       " [20328365628461448835305187734101899451217614691149693641094876375754012727584,\n",
       "  10225524194624929400076867361188761446514892536153379649459494799623258833978],\n",
       " [4291652313593574089525625200912906614056748094232163297101142212534661874879,\n",
       "  6998775953577332006501826973416929445685027514186196126815564910997605593055],\n",
       " [5450546821195834704830542002066232035629362228446455374215615265023108000341,\n",
       "  607870602254432118201834502082873201416280748361613919790460166107697394480],\n",
       " [11263895749303268299671635138197953632550948003898958753922190807465694085116,\n",
       "  6052773398704258880820990702313285848676713399130008761183893659355164798385],\n",
       " [7424499247426635643560502975064652249307321982662158579806273380831928332338,\n",
       "  10123262418422157030242585636046808876652352551930277423759826501856395866766]]"
      ]
     },
     "execution_count": 9,
     "metadata": {},
     "output_type": "execute_result"
    }
   ],
   "source": [
    "valid_points"
   ]
  },
  {
   "cell_type": "code",
   "execution_count": null,
   "metadata": {},
   "outputs": [],
   "source": []
  }
 ],
 "metadata": {
  "kernelspec": {
   "display_name": "bulletproofs-venv",
   "language": "python",
   "name": "python3"
  },
  "language_info": {
   "codemirror_mode": {
    "name": "ipython",
    "version": 3
   },
   "file_extension": ".py",
   "mimetype": "text/x-python",
   "name": "python",
   "nbconvert_exporter": "python",
   "pygments_lexer": "ipython3",
   "version": "3.12.6"
  }
 },
 "nbformat": 4,
 "nbformat_minor": 2
}
