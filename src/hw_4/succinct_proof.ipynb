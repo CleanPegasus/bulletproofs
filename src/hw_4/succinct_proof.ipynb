{
 "cells": [
  {
   "cell_type": "code",
   "execution_count": 23,
   "metadata": {},
   "outputs": [],
   "source": [
    "from py_ecc.bn128 import G1, multiply, add, FQ, eq, Z1, curve_order\n",
    "from py_ecc.bn128 import curve_order as p\n",
    "import numpy as np\n",
    "from functools import reduce\n",
    "import random\n",
    "import galois\n",
    "import sys\n",
    "sys.path.append('../hw_1')\n",
    "from pedersen_commitment import generate_n_random_points, pedersen_commitment"
   ]
  },
  {
   "cell_type": "code",
   "execution_count": 24,
   "metadata": {},
   "outputs": [],
   "source": [
    "GF = galois.GF(curve_order)"
   ]
  },
  {
   "cell_type": "code",
   "execution_count": 25,
   "metadata": {},
   "outputs": [],
   "source": [
    "def gf_inverse(a):\n",
    "    return GF(1) / a"
   ]
  },
  {
   "cell_type": "code",
   "execution_count": 26,
   "metadata": {},
   "outputs": [],
   "source": [
    "def random_element():\n",
    "    return random.randint(0, 1000)\n",
    "\n",
    "def add_points(points):\n",
    "    return reduce(add, points, Z1)\n",
    "\n",
    "# if points = G1, G2, G3, G4 and scalars = a,b,c,d vector_commit returns\n",
    "# aG1 + bG2 + cG3 + dG4\n",
    "def vector_commit(points, scalars):\n",
    "    # return reduce(add, [multiply(P, i) for P, i in zip(points, scalars)], Z1)\n",
    "    result = Z1\n",
    "    for P, i in zip(points, scalars):\n",
    "        result = add(result, multiply(P, int(i)))\n",
    "    return result\n"
   ]
  },
  {
   "cell_type": "code",
   "execution_count": 27,
   "metadata": {},
   "outputs": [],
   "source": [
    "G_vec = generate_n_random_points('hello', 2)"
   ]
  },
  {
   "cell_type": "code",
   "execution_count": 28,
   "metadata": {},
   "outputs": [],
   "source": [
    "# return a folded vector of length n/2 for scalars\n",
    "def fold(scalar_vec, u):\n",
    "    # if scalar_vec is odd add 0 to the end\n",
    "    if len(scalar_vec) % 2 == 1:\n",
    "        scalar_vec.append(0)\n",
    "    # fold the vector\n",
    "    return [scalar_vec[i] * u + gf_inverse(u) * scalar_vec[i + 1] for i in range(0, len(scalar_vec), 2)]\n"
   ]
  },
  {
   "cell_type": "code",
   "execution_count": 29,
   "metadata": {},
   "outputs": [],
   "source": [
    "# return a folded vector of length n/2 for points\n",
    "def fold_points(point_vec, u):\n",
    "    if len(point_vec) % 2 == 1:\n",
    "        point_vec.append(Z1)\n",
    "    # fold the vector\n",
    "    return [add(multiply(point_vec[i], int(u)), multiply(point_vec[i + 1], int(gf_inverse(u)))) for i in range(0, len(point_vec), 2)]\n"
   ]
  },
  {
   "cell_type": "code",
   "execution_count": 30,
   "metadata": {},
   "outputs": [
    {
     "name": "stdout",
     "output_type": "stream",
     "text": [
      "2\n"
     ]
    }
   ],
   "source": [
    "points_vec = generate_n_random_points('hello', 4)\n",
    "print(len(fold_points(points_vec, GF(2))))\n"
   ]
  },
  {
   "cell_type": "code",
   "execution_count": 31,
   "metadata": {},
   "outputs": [],
   "source": [
    "def compute_secondary_diagonal(G_vec, a):\n",
    "    if len(a) % 2 == 1:\n",
    "        a.append(0)\n",
    "        G_vec.append(Z1)\n",
    "    \n",
    "    L = vector_commit([G_vec[i+1] for i in range(0, len(G_vec)-1, 2)], [a[i] for i in range(0, len(a)-1, 2)])\n",
    "    R = vector_commit([G_vec[i] for i in range(0, len(G_vec)-1, 2)], [a[i+1] for i in range(0, len(a)-1, 2)])\n",
    "    \n",
    "    return L, R"
   ]
  },
  {
   "cell_type": "code",
   "execution_count": 32,
   "metadata": {},
   "outputs": [],
   "source": [
    "def verify(A, L, R, a_prime, u, G_vec):\n",
    "    # Calculate right hand side: L·u² + A + R·u⁻²\n",
    "    u_squared = int((u * u))\n",
    "    u_inv_squared = int((gf_inverse(u) * gf_inverse(u)))\n",
    "    \n",
    "    rhs = multiply(L, u_squared)  # Start with L·u²\n",
    "    rhs = add(rhs, A)            # Add A\n",
    "    rhs = add(rhs, multiply(R, u_inv_squared))  # Add R·u⁻²\n",
    "\n",
    "    # Calculate left hand side\n",
    "    # <folded_g, a_prime>\n",
    "    folded_G = fold_points(G_vec, gf_inverse(u))\n",
    "    lhs = vector_commit(folded_G, a_prime)\n",
    "\n",
    "    return eq(lhs, rhs)"
   ]
  },
  {
   "cell_type": "code",
   "execution_count": 33,
   "metadata": {},
   "outputs": [
    {
     "name": "stdout",
     "output_type": "stream",
     "text": [
      "False\n"
     ]
    }
   ],
   "source": [
    "a = [9,45,23,42]\n",
    "\n",
    "# prover commits\n",
    "A = vector_commit(G_vec, a)\n",
    "L, R = compute_secondary_diagonal(G_vec, a)\n",
    "\n",
    "# verifier computes randomness\n",
    "u = GF(random_element())\n",
    "\n",
    "# prover computes fold(a)\n",
    "aprime = fold(a, u)\n",
    "\n",
    "# verifier computes fold(G)\n",
    "# Gprime = fold_points(G_vec, GF(pow(u, -1)))\n",
    "\n",
    "print(verify(A, L, R, aprime, u, G_vec))\n",
    "\n",
    "# # verification check\n",
    "# assert eq(vector_commit(Gprime, aprime), add_points(multiply(L, pow(u, 2, p)), A, multiply(R, pow(u, -2, p)))), \"invalid proof\"\n",
    "# assert len(Gprime) == len(a) // 2 and len(aprime) == len(a) // 2, \"proof must be size n/2\""
   ]
  },
  {
   "cell_type": "code",
   "execution_count": null,
   "metadata": {},
   "outputs": [],
   "source": []
  }
 ],
 "metadata": {
  "kernelspec": {
   "display_name": "bulletproofs-venv",
   "language": "python",
   "name": "python3"
  },
  "language_info": {
   "codemirror_mode": {
    "name": "ipython",
    "version": 3
   },
   "file_extension": ".py",
   "mimetype": "text/x-python",
   "name": "python",
   "nbconvert_exporter": "python",
   "pygments_lexer": "ipython3",
   "version": "3.12.6"
  }
 },
 "nbformat": 4,
 "nbformat_minor": 2
}
