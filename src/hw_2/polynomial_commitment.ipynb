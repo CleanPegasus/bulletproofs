{
 "cells": [
  {
   "cell_type": "code",
   "execution_count": 2,
   "metadata": {},
   "outputs": [],
   "source": [
    "import sys\n",
    "from py_ecc.bn128 import G1, field_modulus, FQ, curve_order, is_on_curve, multiply, add, Z1\n",
    "import hashlib\n",
    "import sympy\n",
    "sys.path.append('../hw_1')\n",
    "from pedersen_commitment import generate_n_random_points\n",
    "import random"
   ]
  },
  {
   "cell_type": "code",
   "execution_count": 8,
   "metadata": {},
   "outputs": [],
   "source": [
    "def commit(f_0, f_1, f_2, G, B):\n",
    "\tresults = []\n",
    "\tfor index, f in enumerate([f_0, f_1, f_2]):\n",
    "\t\tcoeff_commitment = add(multiply(B, gammas[index]), multiply(G, f))\n",
    "\t\tresults.append(coeff_commitment)\n",
    "\treturn results\n"
   ]
  },
  {
   "cell_type": "code",
   "execution_count": 13,
   "metadata": {},
   "outputs": [],
   "source": [
    "def evaluate(f_0, f_1, f_2, u):\n",
    "\tresult = 0\n",
    "\tfor index, f in enumerate([f_0, f_1, f_2]):\n",
    "\t\tresult += f * (u ** index)\n",
    "\treturn result % curve_order"
   ]
  },
  {
   "cell_type": "code",
   "execution_count": 14,
   "metadata": {},
   "outputs": [],
   "source": [
    "def prove(gamma_0, gamma_1, gamma_2, u):\n",
    "\tproof = 0\n",
    "\tfor index, g in enumerate([gamma_0, gamma_1, gamma_2]):\n",
    "\t\tproof += g * (u ** index)\n",
    "\treturn proof"
   ]
  },
  {
   "cell_type": "code",
   "execution_count": 15,
   "metadata": {},
   "outputs": [],
   "source": [
    "def verify(C0, C1, C2, G, B, u, f_u, pi):\n",
    "\tlhs = Z1\n",
    "\tfor index, C in enumerate([C0, C1, C2]):\n",
    "\t\tlhs = add(lhs, multiply(C, u ** index))\n",
    "\trhs = add(multiply(G, f_u), multiply(B, pi))\n",
    "\treturn rhs == lhs"
   ]
  },
  {
   "cell_type": "code",
   "execution_count": 16,
   "metadata": {},
   "outputs": [
    {
     "name": "stdout",
     "output_type": "stream",
     "text": [
      "1495659542063848570053253222896055145153148116655866857818537174074171748404849052600827396292235417939572143720839539866487290019334308472994553915103109858106819355284605034624716473269510645742232147467411589997758669464668726\n",
      "accept\n"
     ]
    }
   ],
   "source": [
    "f_0 = 10\n",
    "f_1 = 15\n",
    "f_2 = 20\n",
    "\n",
    "gamma_0 = 0\n",
    "gamma_1 = random.randint(1, field_modulus)\n",
    "gamma_2 = random.randint(1, field_modulus)\n",
    "\n",
    "gammas = [gamma_0, gamma_1, gamma_2]\n",
    "\n",
    "[G, B] = generate_n_random_points(seed='hello', n=2)\n",
    "\n",
    "[C0, C1, C2] = commit(f_0, f_1, f_2, G, B)\n",
    "\n",
    "u = random.randint(1, field_modulus)\n",
    "f_u = evaluate(f_0, f_1, f_2, u)\n",
    "pi = prove(gamma_0, gamma_1, gamma_2, u)\n",
    "\n",
    "print(pi)\n",
    "if verify(C0, C1, C2, G, B, u, f_u, pi):\n",
    "\tprint(\"accept\")\n",
    "else:\n",
    "\tprint(\"reject\")\n"
   ]
  },
  {
   "cell_type": "code",
   "execution_count": null,
   "metadata": {},
   "outputs": [],
   "source": []
  },
  {
   "cell_type": "code",
   "execution_count": null,
   "metadata": {},
   "outputs": [],
   "source": []
  },
  {
   "cell_type": "code",
   "execution_count": null,
   "metadata": {},
   "outputs": [],
   "source": []
  }
 ],
 "metadata": {
  "kernelspec": {
   "display_name": "bulletproofs-venv",
   "language": "python",
   "name": "python3"
  },
  "language_info": {
   "codemirror_mode": {
    "name": "ipython",
    "version": 3
   },
   "file_extension": ".py",
   "mimetype": "text/x-python",
   "name": "python",
   "nbconvert_exporter": "python",
   "pygments_lexer": "ipython3",
   "version": "3.12.6"
  }
 },
 "nbformat": 4,
 "nbformat_minor": 2
}
