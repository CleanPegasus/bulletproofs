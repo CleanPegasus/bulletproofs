{
 "cells": [
  {
   "cell_type": "code",
   "execution_count": 2,
   "metadata": {},
   "outputs": [],
   "source": [
    "from py_ecc.bn128 import G1, multiply, add, FQ, eq, Z1\n",
    "from py_ecc.bn128 import curve_order\n",
    "import numpy as np\n",
    "from functools import reduce\n",
    "import random\n",
    "import galois"
   ]
  },
  {
   "cell_type": "code",
   "execution_count": 3,
   "metadata": {},
   "outputs": [],
   "source": [
    "import sys\n",
    "sys.path.append('../hw_1')\n",
    "from pedersen_commitment import generate_n_random_points, pedersen_commitment"
   ]
  },
  {
   "cell_type": "code",
   "execution_count": 4,
   "metadata": {},
   "outputs": [],
   "source": [
    "GF = galois.GF(curve_order)"
   ]
  },
  {
   "cell_type": "code",
   "execution_count": 5,
   "metadata": {},
   "outputs": [],
   "source": [
    "def gf_inverse(a):\n",
    "    return GF(1) / a"
   ]
  },
  {
   "cell_type": "code",
   "execution_count": 6,
   "metadata": {},
   "outputs": [],
   "source": [
    "def random_element():\n",
    "    return random.randint(2, curve_order)\n",
    "\n",
    "def add_points(*points):\n",
    "    return reduce(add, points, Z1)"
   ]
  },
  {
   "cell_type": "code",
   "execution_count": 7,
   "metadata": {},
   "outputs": [],
   "source": [
    "# if points = G1, G2, G3, G4 and scalars = a,b,c,d vector_commit returns\n",
    "# aG1 + bG2 + cG3 + dG4\n",
    "def vector_commit(points, scalars):\n",
    "    # return reduce(add, [multiply(P, i) for P, i in zip(points, scalars)], Z1)\n",
    "    result = Z1\n",
    "    for P, i in zip(points, scalars):\n",
    "        result = add(result, multiply(P, int(i)))\n",
    "    return result"
   ]
  },
  {
   "cell_type": "code",
   "execution_count": 8,
   "metadata": {},
   "outputs": [],
   "source": [
    "# return a folded vector of length n/2 for scalars\n",
    "def fold(scalar_vec, u):\n",
    "    # if scalar_vec is odd add 0 to the end\n",
    "    if len(scalar_vec) % 2 == 1:\n",
    "        scalar_vec.append(0)\n",
    "    # fold the vector\n",
    "    return [scalar_vec[i] * u + gf_inverse(u) * scalar_vec[i + 1] for i in range(0, len(scalar_vec), 2)]\n"
   ]
  },
  {
   "cell_type": "code",
   "execution_count": 9,
   "metadata": {},
   "outputs": [],
   "source": [
    "# return a folded vector of length n/2 for points\n",
    "def fold_points(point_vec, u):\n",
    "    if len(point_vec) % 2 == 1:\n",
    "        point_vec.append(Z1)\n",
    "    # fold the vector\n",
    "    return [add(multiply(point_vec[i], int(u)), multiply(point_vec[i + 1], int(gf_inverse(u)))) for i in range(0, len(point_vec), 2)]\n"
   ]
  },
  {
   "cell_type": "code",
   "execution_count": 10,
   "metadata": {},
   "outputs": [],
   "source": [
    "def compute_secondary_diagonal(G_vec, a):\n",
    "    if len(a) % 2 == 1:\n",
    "        a.append(0)\n",
    "        G_vec.append(Z1)\n",
    "    \n",
    "    L = vector_commit([G_vec[i+1] for i in range(0, len(G_vec)-1, 2)], [a[i] for i in range(0, len(a)-1, 2)])\n",
    "    R = vector_commit([G_vec[i] for i in range(0, len(G_vec)-1, 2)], [a[i+1] for i in range(0, len(a)-1, 2)])\n",
    "    \n",
    "    return L, R"
   ]
  },
  {
   "cell_type": "code",
   "execution_count": 11,
   "metadata": {},
   "outputs": [],
   "source": [
    "def verify(A, L, R, a_prime, u, G_vec):\n",
    "    # Calculate right hand side: L·u² + A + R·u⁻²\n",
    "    u_squared = int((u * u))\n",
    "    u_inv_squared = int((gf_inverse(u) * gf_inverse(u)))\n",
    "    \n",
    "    rhs = multiply(L, u_squared)  # Start with L·u²\n",
    "    rhs = add(rhs, A)            # Add A\n",
    "    rhs = add(rhs, multiply(R, u_inv_squared))  # Add R·u⁻²\n",
    "\n",
    "    # Calculate left hand side\n",
    "    # <folded_g, a_prime>\n",
    "    folded_G = fold_points(G_vec, gf_inverse(u))\n",
    "    lhs = vector_commit(folded_G, a_prime)\n",
    "\n",
    "    return eq(lhs, rhs)"
   ]
  },
  {
   "cell_type": "code",
   "execution_count": 12,
   "metadata": {},
   "outputs": [
    {
     "name": "stdout",
     "output_type": "stream",
     "text": [
      "False\n"
     ]
    }
   ],
   "source": [
    "a = [9, 10, 11, 12]\n",
    "G_vec = generate_n_random_points('hello', 2**4)\n",
    "\n",
    "# pad a with 0s to make the length powers of 2\n",
    "while len(a) < 2**4:\n",
    "    a.append(0)\n",
    "\n",
    "while len(a) > 1:\n",
    "  A = vector_commit(G_vec, a)\n",
    "  L, R = compute_secondary_diagonal(G_vec, a)\n",
    "\n",
    "  u = GF(random_element())\n",
    "  a = fold(a, u)\n",
    "  \n",
    "  if not verify(A, L, R, a, u, G_vec):\n",
    "    print(\"Verification failed\")\n",
    "    break\n",
    "  G_vec = fold_points(G_vec, gf_inverse(u))\n",
    "\n",
    "A = vector_commit(G_vec, a)\n"
   ]
  },
  {
   "cell_type": "code",
   "execution_count": null,
   "metadata": {},
   "outputs": [],
   "source": []
  }
 ],
 "metadata": {
  "kernelspec": {
   "display_name": "bulletproofs-venv",
   "language": "python",
   "name": "python3"
  },
  "language_info": {
   "codemirror_mode": {
    "name": "ipython",
    "version": 3
   },
   "file_extension": ".py",
   "mimetype": "text/x-python",
   "name": "python",
   "nbconvert_exporter": "python",
   "pygments_lexer": "ipython3",
   "version": "3.12.6"
  }
 },
 "nbformat": 4,
 "nbformat_minor": 2
}
