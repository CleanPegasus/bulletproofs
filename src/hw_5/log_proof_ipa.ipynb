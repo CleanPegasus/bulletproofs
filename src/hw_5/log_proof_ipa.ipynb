{
 "cells": [
  {
   "cell_type": "code",
   "execution_count": 1,
   "metadata": {},
   "outputs": [],
   "source": [
    "from py_ecc.bn128 import G1, multiply, add, FQ, eq, Z1, curve_order\n",
    "from py_ecc.bn128 import curve_order as p\n",
    "import numpy as np\n",
    "from functools import reduce\n",
    "import random\n",
    "import galois\n",
    "\n",
    "import sys\n",
    "sys.path.append('../hw_1')\n",
    "from pedersen_commitment import generate_n_random_points, pedersen_commitment"
   ]
  },
  {
   "cell_type": "code",
   "execution_count": 2,
   "metadata": {},
   "outputs": [],
   "source": [
    "GF = galois.GF(curve_order)"
   ]
  },
  {
   "cell_type": "code",
   "execution_count": 3,
   "metadata": {},
   "outputs": [],
   "source": [
    "def gf_inverse(a):\n",
    "    return GF(1) / a"
   ]
  },
  {
   "cell_type": "code",
   "execution_count": 21,
   "metadata": {},
   "outputs": [],
   "source": [
    "def random_element():\n",
    "    return random.randint(0, 1000)\n",
    "\n",
    "def add_points(points):\n",
    "    return reduce(add, points, Z1)\n",
    "\n",
    "# if points = G1, G2, G3, G4 and scalars = a,b,c,d vector_commit returns\n",
    "# aG1 + bG2 + cG3 + dG4\n",
    "def vector_commit(points, scalars):\n",
    "    # return reduce(add, [multiply(P, i) for P, i in zip(points, scalars)], Z1)\n",
    "    result = Z1\n",
    "    for P, i in zip(points, scalars):\n",
    "        result = add(result, multiply(P, int(i)))\n",
    "    return result\n"
   ]
  },
  {
   "cell_type": "code",
   "execution_count": 22,
   "metadata": {},
   "outputs": [],
   "source": [
    "G_vec = generate_n_random_points('hello', 2)"
   ]
  },
  {
   "cell_type": "code",
   "execution_count": 23,
   "metadata": {},
   "outputs": [],
   "source": [
    "# return a folded vector of length n/2 for scalars\n",
    "def fold(scalar_vec, u):\n",
    "    # if scalar_vec is odd add 0 to the end\n",
    "    if len(scalar_vec) % 2 == 1:\n",
    "        scalar_vec.append(0)\n",
    "    # fold the vector\n",
    "    return [scalar_vec[i] * u + gf_inverse(u) * scalar_vec[i + 1] for i in range(0, len(scalar_vec), 2)]\n"
   ]
  },
  {
   "cell_type": "code",
   "execution_count": 24,
   "metadata": {},
   "outputs": [],
   "source": [
    "# return a folded vector of length n/2 for points\n",
    "def fold_points(point_vec, u):\n",
    "    if len(point_vec) % 2 == 1:\n",
    "        point_vec.append(Z1)\n",
    "    # fold the vector\n",
    "    return [add(multiply(point_vec[i], int(u)), multiply(point_vec[i + 1], int(gf_inverse(u)))) for i in range(0, len(point_vec), 2)]\n"
   ]
  },
  {
   "cell_type": "code",
   "execution_count": 25,
   "metadata": {},
   "outputs": [],
   "source": [
    "def compute_secondary_diagonal(G_vec, a):\n",
    "    if len(a) % 2 == 1:\n",
    "        a.append(0)\n",
    "        G_vec.append(Z1)\n",
    "    L = vector_commit([G_vec[i+1] for i in range(0, len(G_vec)-1, 2)], [a[i] for i in range(0, len(a)-1, 2)])\n",
    "    R = vector_commit([G_vec[i] for i in range(0, len(G_vec)-1, 2)], [a[i+1] for i in range(0, len(a)-1, 2)])\n",
    "\n",
    "    return L, R"
   ]
  },
  {
   "cell_type": "code",
   "execution_count": 38,
   "metadata": {},
   "outputs": [],
   "source": [
    "def compute_secondary_diagonal_scalar(b, a):\n",
    "    R = 0\n",
    "    L = 0\n",
    "\n",
    "    for i in range(len(a)):\n",
    "        if i % 2 == 0:\n",
    "            R = (R + (b[i] * a[i+1]))\n",
    "        else:\n",
    "            L = (L + (b[i] * a[i-1]))\n",
    "\n",
    "    return L, R"
   ]
  },
  {
   "cell_type": "code",
   "execution_count": 40,
   "metadata": {},
   "outputs": [
    {
     "name": "stdout",
     "output_type": "stream",
     "text": [
      "(16190011361069560923400258561835911105270653408153371243694959837297232081176, 18742250086670805958315119482117758118928440492373928207378521063705862837865)\n",
      "(7726591647306897651843342549465409067748489424723756381997609426279776040689, 8481583831227148534844669596656539200368725732236479184021083856547444881773)\n",
      "True\n"
     ]
    }
   ],
   "source": [
    "a = [GF(1), GF(2)]\n",
    "b = [GF(5), GF(6)]\n",
    "\n",
    "g_vec = generate_n_random_points('hello', 4)\n",
    "h_vec = generate_n_random_points('bullet', 4)\n",
    "\n",
    "q = generate_n_random_points('q', 1)[0]\n",
    "\n",
    "q_vec = []\n",
    "for i in range(len(b)):\n",
    "    q_vec.append(multiply(q, int(b[i])))\n",
    "\n",
    "p = add(add(vector_commit(g_vec, a), vector_commit(h_vec, b)), vector_commit(q_vec, a))\n",
    "\n",
    "l_1, r_1 = compute_secondary_diagonal(g_vec, a)\n",
    "l_2, r_2 = compute_secondary_diagonal(h_vec, b)\n",
    "l_3, r_3 = compute_secondary_diagonal(q_vec, a)\n",
    "\n",
    "l = add(add(l_1, l_2), l_3)\n",
    "r = add(add(r_1, r_2), r_3)\n",
    "\n",
    "print(l)\n",
    "print(r)\n",
    "\n",
    "u = GF(random_element())\n",
    "\n",
    "u_squared = u * u\n",
    "u_inv_squared = gf_inverse(u) * gf_inverse(u)\n",
    "lu_2 = multiply(l, int(u_squared))\n",
    "ru_2 = multiply(r, int(u_inv_squared))\n",
    "p_prime = add(add(lu_2, p), ru_2)\n",
    "\n",
    "g_prime = fold_points(g_vec, gf_inverse(u))\n",
    "h_prime = fold_points(h_vec, u)\n",
    "\n",
    "a_prime = fold(a, u)\n",
    "b_prime = fold(b, gf_inverse(u))\n",
    "\n",
    "q_prime = []\n",
    "for i in range(len(b_prime)):\n",
    "    q_prime.append(multiply(q, int(b_prime[i])))\n",
    "  \n",
    "\n",
    "p_1 = add(add(vector_commit(g_prime, a_prime), vector_commit(h_prime, b_prime)), vector_commit(q_prime, a_prime))\n",
    "\n",
    "verification = eq(p_1, add(add(vector_commit(g_prime, a_prime), vector_commit(h_prime, b_prime)), multiply(q, int(a_prime[0] * b_prime[0]))))\n",
    "\n",
    "print(verification)\n",
    "\n"
   ]
  },
  {
   "cell_type": "code",
   "execution_count": null,
   "metadata": {},
   "outputs": [],
   "source": []
  },
  {
   "cell_type": "code",
   "execution_count": null,
   "metadata": {},
   "outputs": [],
   "source": []
  }
 ],
 "metadata": {
  "kernelspec": {
   "display_name": "bulletproofs-venv",
   "language": "python",
   "name": "python3"
  },
  "language_info": {
   "codemirror_mode": {
    "name": "ipython",
    "version": 3
   },
   "file_extension": ".py",
   "mimetype": "text/x-python",
   "name": "python",
   "nbconvert_exporter": "python",
   "pygments_lexer": "ipython3",
   "version": "3.12.6"
  }
 },
 "nbformat": 4,
 "nbformat_minor": 2
}
